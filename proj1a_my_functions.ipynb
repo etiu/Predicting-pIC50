{
 "cells": [
  {
   "cell_type": "code",
   "execution_count": 5,
   "id": "f7e74881-4415-4474-8b2c-4f8b900288ba",
   "metadata": {},
   "outputs": [],
   "source": [
    "from rdkit import Chem\n",
    "from rdkit.Chem import Descriptors, Lipinski\n",
    "import numpy as np\n",
    "import pandas as pd"
   ]
  },
  {
   "cell_type": "code",
   "execution_count": 6,
   "id": "0e7e2b99-aafe-4bd0-ae0f-11dd3081dffc",
   "metadata": {},
   "outputs": [],
   "source": [
    "def get_moldata(smiles):\n",
    "    '''get mol data from the input data smiles'''\n",
    "    moldata = []\n",
    "    for i in smiles:\n",
    "        mol = Chem.MolFromSmiles(i)\n",
    "        moldata.append(mol)\n",
    "\n",
    "    return moldata"
   ]
  },
  {
   "cell_type": "code",
   "execution_count": 7,
   "id": "268a7633-357e-4666-a0ad-eb1db8e0803d",
   "metadata": {},
   "outputs": [],
   "source": [
    "def get_lip(mols):\n",
    "    '''get the lipinski descriptors MW, LogP, Number of HBD, and Number of HBA from mol data'''\n",
    "    data =[]\n",
    "    for mol in mols:\n",
    "        mw = Descriptors.MolWt(mol)\n",
    "        data.append(mw)\n",
    "        logp = Descriptors.MolLogP(mol)\n",
    "        data.append(logp)\n",
    "        numHBA = Lipinski.NumHAcceptors(mol)\n",
    "        data.append(numHBA)\n",
    "        numHBD = Lipinski.NumHDonors(mol)\n",
    "        data.append(numHBD)\n",
    "\n",
    "    data = np.array(data)\n",
    "    data1 = data.reshape((int(len(data)/4)),4)\n",
    "    columnNames = ['MW', 'LogP', 'NumHAcceptors', 'NumHDonors']\n",
    "    descriptors = pd.DataFrame(data = data1, columns = columnNames)\n",
    "    return descriptors"
   ]
  },
  {
   "cell_type": "code",
   "execution_count": 31,
   "id": "7f0cbc94-dde6-4af0-b688-991ea618a354",
   "metadata": {},
   "outputs": [],
   "source": [
    "def convert_to_pIC50(std_val):\n",
    "    '''get the pIC50 from IC50'''\n",
    "    pIC50 = []\n",
    "    for i in std_val:\n",
    "        pIC50val = -np.log10(0.000000001*i)\n",
    "        pIC50.append(pIC50val)\n",
    "    df3 = pd.DataFrame({'pIC50': pIC50})\n",
    "    return df3"
   ]
  },
  {
   "cell_type": "code",
   "execution_count": 19,
   "id": "39b048bd-e2bf-45ca-bd69-66b1751912fd",
   "metadata": {},
   "outputs": [],
   "source": [
    "smiles = ['C12=NC=NC=C1C=CC=C2', 'C1(C=CC=C2)=C2C=NN1CC3=NC=CS3', 'C[C@H](C(N(C)C)=O)[O]']"
   ]
  },
  {
   "cell_type": "code",
   "execution_count": 20,
   "id": "a8ac5b52-de31-4b39-b652-3c5d53f5986a",
   "metadata": {},
   "outputs": [],
   "source": [
    "mols = get_moldata(smiles)"
   ]
  },
  {
   "cell_type": "code",
   "execution_count": 21,
   "id": "6851ce87-1d61-4cb2-8887-37bc140bf2e7",
   "metadata": {},
   "outputs": [
    {
     "data": {
      "text/html": [
       "<div>\n",
       "<style scoped>\n",
       "    .dataframe tbody tr th:only-of-type {\n",
       "        vertical-align: middle;\n",
       "    }\n",
       "\n",
       "    .dataframe tbody tr th {\n",
       "        vertical-align: top;\n",
       "    }\n",
       "\n",
       "    .dataframe thead th {\n",
       "        text-align: right;\n",
       "    }\n",
       "</style>\n",
       "<table border=\"1\" class=\"dataframe\">\n",
       "  <thead>\n",
       "    <tr style=\"text-align: right;\">\n",
       "      <th></th>\n",
       "      <th>MW</th>\n",
       "      <th>LogP</th>\n",
       "      <th>NumHAcceptors</th>\n",
       "      <th>NumHDonors</th>\n",
       "    </tr>\n",
       "  </thead>\n",
       "  <tbody>\n",
       "    <tr>\n",
       "      <th>0</th>\n",
       "      <td>130.150</td>\n",
       "      <td>1.6298</td>\n",
       "      <td>2.0</td>\n",
       "      <td>0.0</td>\n",
       "    </tr>\n",
       "    <tr>\n",
       "      <th>1</th>\n",
       "      <td>215.281</td>\n",
       "      <td>2.5411</td>\n",
       "      <td>4.0</td>\n",
       "      <td>0.0</td>\n",
       "    </tr>\n",
       "    <tr>\n",
       "      <th>2</th>\n",
       "      <td>116.140</td>\n",
       "      <td>-0.1064</td>\n",
       "      <td>1.0</td>\n",
       "      <td>0.0</td>\n",
       "    </tr>\n",
       "  </tbody>\n",
       "</table>\n",
       "</div>"
      ],
      "text/plain": [
       "        MW    LogP  NumHAcceptors  NumHDonors\n",
       "0  130.150  1.6298            2.0         0.0\n",
       "1  215.281  2.5411            4.0         0.0\n",
       "2  116.140 -0.1064            1.0         0.0"
      ]
     },
     "execution_count": 21,
     "metadata": {},
     "output_type": "execute_result"
    }
   ],
   "source": [
    "get_lip(mols)"
   ]
  },
  {
   "cell_type": "code",
   "execution_count": null,
   "id": "c74f12cf-7f74-476b-ad8f-690c00f335b0",
   "metadata": {},
   "outputs": [],
   "source": []
  }
 ],
 "metadata": {
  "kernelspec": {
   "display_name": "Python 3 (ipykernel)",
   "language": "python",
   "name": "python3"
  },
  "language_info": {
   "codemirror_mode": {
    "name": "ipython",
    "version": 3
   },
   "file_extension": ".py",
   "mimetype": "text/x-python",
   "name": "python",
   "nbconvert_exporter": "python",
   "pygments_lexer": "ipython3",
   "version": "3.9.0"
  }
 },
 "nbformat": 4,
 "nbformat_minor": 5
}
